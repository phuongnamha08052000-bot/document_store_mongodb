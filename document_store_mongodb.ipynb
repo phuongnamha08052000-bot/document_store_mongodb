{
 "cells": [
  {
   "cell_type": "code",
   "execution_count": 4,
   "id": "3512aa0e",
   "metadata": {},
   "outputs": [
    {
     "name": "stdout",
     "output_type": "stream",
     "text": [
      "Collecting pymongo\n",
      "  Using cached pymongo-4.15.3-cp313-cp313-macosx_11_0_arm64.whl.metadata (22 kB)\n",
      "Requirement already satisfied: pandas in ./python3.13/site-packages (2.3.3)\n",
      "Collecting dnspython<3.0.0,>=1.16.0 (from pymongo)\n",
      "  Using cached dnspython-2.8.0-py3-none-any.whl.metadata (5.7 kB)\n",
      "Requirement already satisfied: numpy>=1.26.0 in ./python3.13/site-packages (from pandas) (2.3.3)\n",
      "Requirement already satisfied: python-dateutil>=2.8.2 in ./python3.13/site-packages (from pandas) (2.9.0.post0)\n",
      "Requirement already satisfied: pytz>=2020.1 in ./python3.13/site-packages (from pandas) (2025.2)\n",
      "Requirement already satisfied: tzdata>=2022.7 in ./python3.13/site-packages (from pandas) (2025.2)\n",
      "Requirement already satisfied: six>=1.5 in ./python3.13/site-packages (from python-dateutil>=2.8.2->pandas) (1.17.0)\n",
      "Using cached pymongo-4.15.3-cp313-cp313-macosx_11_0_arm64.whl (975 kB)\n",
      "Using cached dnspython-2.8.0-py3-none-any.whl (331 kB)\n",
      "Installing collected packages: dnspython, pymongo\n",
      "\u001b[2K   \u001b[90m━━━━━━━━━━━━━━━━━━━━━━━━━━━━━━━━━━━━━━━━\u001b[0m \u001b[32m2/2\u001b[0m [pymongo]m1/2\u001b[0m [pymongo]\n",
      "\u001b[1A\u001b[2KSuccessfully installed dnspython-2.8.0 pymongo-4.15.3\n"
     ]
    }
   ],
   "source": [
    "!pip install pymongo pandas"
   ]
  },
  {
   "cell_type": "code",
   "execution_count": 5,
   "id": "e8b963d5",
   "metadata": {},
   "outputs": [],
   "source": [
    "from pymongo import MongoClient\n",
    "import pandas as pd\n",
    "import json"
   ]
  },
  {
   "cell_type": "code",
   "execution_count": 6,
   "id": "4d99b89a",
   "metadata": {},
   "outputs": [
    {
     "name": "stdout",
     "output_type": "stream",
     "text": [
      "['admin', 'config', 'local']\n"
     ]
    }
   ],
   "source": [
    "#connect to MongoDB server\n",
    "client = MongoClient(\"mongodb://localhost:27017/\")\n",
    "\n",
    "#switch to the 'nam' database\n",
    "db = client[\"nam\"]\n",
    "\n",
    "#list databases to confirm connection\n",
    "print(client.list_database_names())\n"
   ]
  },
  {
   "cell_type": "code",
   "execution_count": 19,
   "id": "c9853f6d",
   "metadata": {},
   "outputs": [],
   "source": [
    "#load JSON file\n",
    "with open(\"companies.json\") as c:\n",
    "    data = json.load(c)\n"
   ]
  },
  {
   "cell_type": "code",
   "execution_count": 20,
   "id": "a92b6f67",
   "metadata": {},
   "outputs": [
    {
     "name": "stdout",
     "output_type": "stream",
     "text": [
      "{'company': 'Apple', 'city': 'Cupertino', 'state': 'California', 'country': 'USA', 'description': 'American multinational technology company that designs, develops, and sells consumer electronics, computer software, and online services', 'employees': 164000, 'founded': 1976, 'revenue': 394.33}\n"
     ]
    }
   ],
   "source": [
    "#view one record to confirm keys/structure\n",
    "print(data[0])\n"
   ]
  },
  {
   "cell_type": "code",
   "execution_count": null,
   "id": "f5b1e095",
   "metadata": {},
   "outputs": [],
   "source": [
    "#create a collection in MongoDB named \"companies\"\n",
    "companies_col = db[\"companies\"]\n"
   ]
  },
  {
   "cell_type": "code",
   "execution_count": 22,
   "id": "31fd8ec1",
   "metadata": {},
   "outputs": [
    {
     "data": {
      "text/plain": [
       "InsertManyResult([ObjectId('68fbd3cf2fe35c7c13b9ca0b'), ObjectId('68fbd3cf2fe35c7c13b9ca0c'), ObjectId('68fbd3cf2fe35c7c13b9ca0d'), ObjectId('68fbd3cf2fe35c7c13b9ca0e'), ObjectId('68fbd3cf2fe35c7c13b9ca0f'), ObjectId('68fbd3cf2fe35c7c13b9ca10'), ObjectId('68fbd3cf2fe35c7c13b9ca11'), ObjectId('68fbd3cf2fe35c7c13b9ca12'), ObjectId('68fbd3cf2fe35c7c13b9ca13'), ObjectId('68fbd3cf2fe35c7c13b9ca14'), ObjectId('68fbd3cf2fe35c7c13b9ca15'), ObjectId('68fbd3cf2fe35c7c13b9ca16'), ObjectId('68fbd3cf2fe35c7c13b9ca17'), ObjectId('68fbd3cf2fe35c7c13b9ca18'), ObjectId('68fbd3cf2fe35c7c13b9ca19')], acknowledged=True)"
      ]
     },
     "execution_count": 22,
     "metadata": {},
     "output_type": "execute_result"
    }
   ],
   "source": [
    "#insert all records into the collection\n",
    "companies_col.insert_many(data)\n"
   ]
  },
  {
   "cell_type": "code",
   "execution_count": 23,
   "id": "8e3e0e8d",
   "metadata": {},
   "outputs": [
    {
     "name": "stdout",
     "output_type": "stream",
     "text": [
      "Total documents: 15\n",
      "{'_id': ObjectId('68fbd3cf2fe35c7c13b9ca0b'), 'company': 'Apple', 'city': 'Cupertino', 'state': 'California', 'country': 'USA', 'description': 'American multinational technology company that designs, develops, and sells consumer electronics, computer software, and online services', 'employees': 164000, 'founded': 1976, 'revenue': 394.33}\n"
     ]
    }
   ],
   "source": [
    "#verify the insertion \n",
    "#count documents\n",
    "print(\"Total documents:\", companies_col.count_documents({}))\n",
    "\n",
    "#view first document\n",
    "print(companies_col.find_one())\n"
   ]
  },
  {
   "cell_type": "code",
   "execution_count": 27,
   "id": "925f6694",
   "metadata": {},
   "outputs": [
    {
     "name": "stdout",
     "output_type": "stream",
     "text": [
      "{'company': 'Tesla', 'employees': 127855, 'founded': 2003}\n",
      "{'company': 'Alphabet', 'employees': 190234, 'founded': 1998}\n",
      "{'company': 'Alibaba Group', 'employees': 239740, 'founded': 1999}\n",
      "{'company': 'Amazon', 'employees': 1541000, 'founded': 1994}\n"
     ]
    }
   ],
   "source": [
    "#find all companies founded in or after 1990 and sort from fewest to most employees\n",
    "#query for greater or equal to 1990\n",
    "query = {\"founded\": {\"$gte\": 1990}}\n",
    "#inclusion & exclusion flags for variables (0 & 1)\n",
    "projection = {\"_id\": 0, \"company\": 1, \"founded\": 1, \"employees\": 1}\n",
    "\n",
    "results = companies_col.find(query, projection).sort(\"employees\", 1)\n",
    "\n",
    "for r in results:\n",
    "    print(r)"
   ]
  },
  {
   "cell_type": "code",
   "execution_count": null,
   "id": "e8bc6aad",
   "metadata": {},
   "outputs": [
    {
     "name": "stdout",
     "output_type": "stream",
     "text": [
      "[{'_id': 'USA', 'total_revenue_billion': 1470.8799999999999}]\n",
      "[{'_id': 'Europe', 'total_revenue_billion': 571.37}]\n"
     ]
    }
   ],
   "source": [
    "#find the totals of annual revenues of the companies headquartered in the US and Europe (Germany, UK, Switzerland)\n",
    "#$match to filter by condition\n",
    "#$in to match any of the countries listed\n",
    "#$group to aggregate the sum of revenue\n",
    "\n",
    "pipeline_us = [\n",
    "    {\"$match\": {\"country\": \"USA\"}},\n",
    "    {\"$group\": {\"_id\": \"USA\", \"total_revenue_billion\": {\"$sum\": \"$revenue\"}}}\n",
    "]\n",
    "\n",
    "result_us = list(companies_col.aggregate(pipeline_us))\n",
    "print(result_us)\n",
    "\n",
    "pipeline_europe = [\n",
    "    {\"$match\": {\"country\": {\"$in\": [\"Germany\", \"United Kingdom\", \"Switzerland\"]}}},\n",
    "    {\"$group\": {\"_id\": \"Europe\", \"total_revenue_billion\": {\"$sum\": \"$revenue\"}}}\n",
    "]\n",
    "\n",
    "result_europe = list(companies_col.aggregate(pipeline_europe))\n",
    "print(result_europe)\n"
   ]
  },
  {
   "cell_type": "code",
   "execution_count": null,
   "id": "8bf00b38",
   "metadata": {},
   "outputs": [
    {
     "name": "stdout",
     "output_type": "stream",
     "text": [
      "{'company': 'Saudi Aramco', 'country': 'Saudi Arabia', 'description': \"Saudi Arabian public petroleum and natural gas company with the world's second-largest proven crude oil reserves.\"} \n",
      "\n"
     ]
    }
   ],
   "source": [
    "#inspect the description variable to confirm what to match for question 3\n",
    "for doc in companies_col.find(\n",
    "    {\"description\": {\"$regex\": \"crude oil reserves\", \"$options\": \"i\"}},\n",
    "    {\"_id\": 0, \"company\": 1, \"country\": 1, \"description\": 1}\n",
    "):\n",
    "    print(doc, \"\\n\")\n"
   ]
  },
  {
   "cell_type": "code",
   "execution_count": 31,
   "id": "ea0202ee",
   "metadata": {},
   "outputs": [
    {
     "name": "stdout",
     "output_type": "stream",
     "text": [
      "Country: Saudi Arabia\n"
     ]
    }
   ],
   "source": [
    "#find the country where the company that has the world's second largest proven crude oil reserves headquartered\n",
    "query = {\n",
    "    \"description\": {\"$regex\": \"second.*crude oil reserves\", \"$options\": \"i\"}\n",
    "}\n",
    "\n",
    "projection = {\"_id\": 0, \"company\": 1, \"country\": 1}\n",
    "\n",
    "result = companies_col.find_one(query, projection)\n",
    "\n",
    "\n",
    "print(\"Country:\", result[\"country\"])\n"
   ]
  },
  {
   "cell_type": "code",
   "execution_count": 33,
   "id": "90ea18a8",
   "metadata": {},
   "outputs": [
    {
     "name": "stdout",
     "output_type": "stream",
     "text": [
      "{'company': 'Saudi Aramco', 'founded': 1933, 'revenue': 552.25}\n"
     ]
    }
   ],
   "source": [
    "#find the company established before 1970, which has the largest annual revenue\n",
    "#filter for founded < 1970\n",
    "results = companies_col.find(\n",
    "    {\"founded\": {\"$lt\": 1970}},\n",
    "    {\"_id\": 0, \"company\": 1, \"founded\": 1, \"revenue\": 1}\n",
    ").sort(\"revenue\", -1).limit(1)\n",
    "\n",
    "for r in results:\n",
    "    print(r)"
   ]
  },
  {
   "cell_type": "code",
   "execution_count": 34,
   "id": "80afcafa",
   "metadata": {},
   "outputs": [
    {
     "name": "stdout",
     "output_type": "stream",
     "text": [
      "[{'_id': 'Energy sector', 'total_revenue_billion': 1212.84, 'total_employees': 1581100}]\n"
     ]
    }
   ],
   "source": [
    "#find the the total revenue and the total number of employees of all energy (oil and/or gas) companies.\n",
    "pipeline_energy = [\n",
    "    {\"$match\": {\"description\": {\"$regex\": \"oil|gas\", \"$options\": \"i\"}}},\n",
    "    {\"$group\": {\n",
    "        \"_id\": \"Energy sector\",\n",
    "        \"total_revenue_billion\": {\"$sum\": \"$revenue\"},\n",
    "        \"total_employees\": {\"$sum\": \"$employees\"}\n",
    "    }}\n",
    "]\n",
    "\n",
    "result_energy = list(companies_col.aggregate(pipeline_energy))\n",
    "print(result_energy)\n"
   ]
  }
 ],
 "metadata": {
  "kernelspec": {
   "display_name": ".venv (3.13.7)",
   "language": "python",
   "name": "python3"
  },
  "language_info": {
   "codemirror_mode": {
    "name": "ipython",
    "version": 3
   },
   "file_extension": ".py",
   "mimetype": "text/x-python",
   "name": "python",
   "nbconvert_exporter": "python",
   "pygments_lexer": "ipython3",
   "version": "3.13.7"
  }
 },
 "nbformat": 4,
 "nbformat_minor": 5
}
